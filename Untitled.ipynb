{
 "cells": [
  {
   "cell_type": "code",
   "execution_count": 1,
   "id": "a656e1aa-fc32-4702-8c7f-22f2d08e63b9",
   "metadata": {},
   "outputs": [],
   "source": [
    "# bs, length, n_head, hd = K1.shape\n",
    "# dot_products = torch.einsum('blhn,hn->blh', K1, self.ReadingHead)\n",
    "\n",
    "import numpy as np"
   ]
  },
  {
   "cell_type": "code",
   "execution_count": 4,
   "id": "86b9f30f-ed7b-4aaf-a1ba-7d0049d61be0",
   "metadata": {},
   "outputs": [],
   "source": [
    "bs, length, n_head, hd = 8, 512, 12, 64\n",
    "n_registers = 2\n",
    "\n",
    "forward_events = (np.random.rand(bs, length, n_head) > 0.2) * 1.\n",
    "backward_events = (np.random.rand(bs, length, n_head) > 0.2) * 1.\n",
    "forward_mmap = np.zeros((bs, length, n_registers+1, n_head))\n",
    "backward_mmap = np.zeros((bs, length, n_registers+1, n_head))\n",
    "\n",
    "\n",
    "mmap = np.zeros((bs, length, n_registers*2+2, n_head))\n",
    "\n",
    "mmap[:, :, 0] = np.broadcast_to((np.arange(1,1+length)).reshape(1,length,1),(bs,length, n_head))\n",
    "mmap[:, :, 1] = np.broadcast_to((np.arange(length, 0, -1)).reshape(1,length,1),(bs,length, n_head))"
   ]
  },
  {
   "cell_type": "code",
   "execution_count": 5,
   "id": "e69a9dbb-6bd6-4cc4-a766-e54408d3262a",
   "metadata": {},
   "outputs": [
    {
     "ename": "ValueError",
     "evalue": "cannot reshape array of size 98304 into shape (8,2048,12,1)",
     "output_type": "error",
     "traceback": [
      "\u001b[0;31m---------------------------------------------------------------------------\u001b[0m",
      "\u001b[0;31mValueError\u001b[0m                                Traceback (most recent call last)",
      "\u001b[0;32m/var/folders/68/0181ggk151s5q7g_yrx6g7rm0000gn/T/ipykernel_13268/3836474307.py\u001b[0m in \u001b[0;36m<module>\u001b[0;34m\u001b[0m\n\u001b[1;32m      2\u001b[0m     \u001b[0mmmap\u001b[0m\u001b[0;34m[\u001b[0m\u001b[0;34m:\u001b[0m\u001b[0;34m,\u001b[0m \u001b[0mlen_index\u001b[0m\u001b[0;34m,\u001b[0m \u001b[0;36m1\u001b[0m\u001b[0;34m:\u001b[0m\u001b[0;34m]\u001b[0m \u001b[0;34m=\u001b[0m \u001b[0mnp\u001b[0m\u001b[0;34m.\u001b[0m\u001b[0mwhere\u001b[0m\u001b[0;34m(\u001b[0m\u001b[0mnp\u001b[0m\u001b[0;34m.\u001b[0m\u001b[0mexpand_dims\u001b[0m\u001b[0;34m(\u001b[0m\u001b[0mforward_events\u001b[0m\u001b[0;34m[\u001b[0m\u001b[0;34m:\u001b[0m\u001b[0;34m,\u001b[0m \u001b[0mlen_index\u001b[0m\u001b[0;34m]\u001b[0m\u001b[0;34m,\u001b[0m \u001b[0maxis\u001b[0m\u001b[0;34m=\u001b[0m\u001b[0;36m1\u001b[0m\u001b[0;34m)\u001b[0m\u001b[0;34m,\u001b[0m \u001b[0mmmap\u001b[0m\u001b[0;34m[\u001b[0m\u001b[0;34m:\u001b[0m\u001b[0;34m,\u001b[0m \u001b[0mlen_index\u001b[0m\u001b[0;34m-\u001b[0m\u001b[0;36m1\u001b[0m\u001b[0;34m,\u001b[0m \u001b[0;34m:\u001b[0m\u001b[0;34m-\u001b[0m\u001b[0;36m1\u001b[0m\u001b[0;34m]\u001b[0m\u001b[0;34m,\u001b[0m \u001b[0mmmap\u001b[0m\u001b[0;34m[\u001b[0m\u001b[0;34m:\u001b[0m\u001b[0;34m,\u001b[0m \u001b[0mlen_index\u001b[0m\u001b[0;34m-\u001b[0m\u001b[0;36m1\u001b[0m\u001b[0;34m,\u001b[0m \u001b[0;36m1\u001b[0m\u001b[0;34m:\u001b[0m\u001b[0;34m]\u001b[0m\u001b[0;34m)\u001b[0m\u001b[0;34m\u001b[0m\u001b[0;34m\u001b[0m\u001b[0m\n\u001b[1;32m      3\u001b[0m     \u001b[0;31m# mmap[:, len_index, 1:] = np.where(forward_events[:, len_index].unsqueeze(1).expand(-1,self.n_registers*2,-1), mmap[:, len_index-1, :-1], mmap[:, len_index-1, 1:])\u001b[0m\u001b[0;34m\u001b[0m\u001b[0;34m\u001b[0m\u001b[0;34m\u001b[0m\u001b[0m\n\u001b[0;32m----> 4\u001b[0;31m \u001b[0mforward_mmap\u001b[0m \u001b[0;34m=\u001b[0m \u001b[0mforward_mmap\u001b[0m\u001b[0;34m[\u001b[0m\u001b[0;34m:\u001b[0m\u001b[0;34m,\u001b[0m\u001b[0;34m:\u001b[0m\u001b[0;34m,\u001b[0m\u001b[0;36m1\u001b[0m\u001b[0;34m:\u001b[0m\u001b[0;34m]\u001b[0m\u001b[0;34m.\u001b[0m\u001b[0mreshape\u001b[0m\u001b[0;34m(\u001b[0m\u001b[0mbs\u001b[0m\u001b[0;34m,\u001b[0m \u001b[0mlength\u001b[0m\u001b[0;34m*\u001b[0m\u001b[0mn_registers\u001b[0m\u001b[0;34m*\u001b[0m\u001b[0;36m2\u001b[0m\u001b[0;34m,\u001b[0m \u001b[0mn_head\u001b[0m\u001b[0;34m,\u001b[0m \u001b[0;36m1\u001b[0m\u001b[0;34m)\u001b[0m\u001b[0;34m.\u001b[0m\u001b[0mexpand\u001b[0m\u001b[0;34m(\u001b[0m\u001b[0;34m-\u001b[0m\u001b[0;36m1\u001b[0m\u001b[0;34m,\u001b[0m \u001b[0;34m-\u001b[0m\u001b[0;36m1\u001b[0m\u001b[0;34m,\u001b[0m \u001b[0;34m-\u001b[0m\u001b[0;36m1\u001b[0m\u001b[0;34m,\u001b[0m \u001b[0mhd\u001b[0m\u001b[0;34m)\u001b[0m\u001b[0;34m\u001b[0m\u001b[0;34m\u001b[0m\u001b[0m\n\u001b[0m",
      "\u001b[0;31mValueError\u001b[0m: cannot reshape array of size 98304 into shape (8,2048,12,1)"
     ]
    }
   ],
   "source": [
    "for len_index in range(1,length):\n",
    "    mmap[:, len_index, 1:] = np.where(np.expand_dims(forward_events[:, len_index], axis=1), mmap[:, len_index-1, :-1], mmap[:, len_index-1, 1:])\n",
    "    # mmap[:, len_index, 1:] = np.where(forward_events[:, len_index].unsqueeze(1).expand(-1,self.n_registers*2,-1), mmap[:, len_index-1, :-1], mmap[:, len_index-1, 1:])\n",
    "forward_mmap = forward_mmap[:,:,1:].reshape(bs, length*n_registers*2, n_head, 1).expand(-1, -1, -1, hd)"
   ]
  },
  {
   "cell_type": "code",
   "execution_count": 6,
   "id": "e50f0fa8-dc54-436b-afbe-5162af8cac6d",
   "metadata": {},
   "outputs": [
    {
     "ename": "TypeError",
     "evalue": "descriptor 'accumulate' requires a 'numpy.ufunc' object but received a 'numpy.ndarray'",
     "output_type": "error",
     "traceback": [
      "\u001b[0;31m---------------------------------------------------------------------------\u001b[0m",
      "\u001b[0;31mTypeError\u001b[0m                                 Traceback (most recent call last)",
      "\u001b[0;32m/var/folders/68/0181ggk151s5q7g_yrx6g7rm0000gn/T/ipykernel_13268/3194016028.py\u001b[0m in \u001b[0;36m<module>\u001b[0;34m\u001b[0m\n\u001b[0;32m----> 1\u001b[0;31m \u001b[0ma\u001b[0m \u001b[0;34m=\u001b[0m \u001b[0mnp\u001b[0m\u001b[0;34m.\u001b[0m\u001b[0mufunc\u001b[0m\u001b[0;34m.\u001b[0m\u001b[0maccumulate\u001b[0m\u001b[0;34m(\u001b[0m\u001b[0mforward_events\u001b[0m\u001b[0;34m,\u001b[0m \u001b[0maxis\u001b[0m \u001b[0;34m=\u001b[0m \u001b[0;36m1\u001b[0m\u001b[0;34m)\u001b[0m\u001b[0;34m\u001b[0m\u001b[0;34m\u001b[0m\u001b[0m\n\u001b[0m\u001b[1;32m      2\u001b[0m \u001b[0ma\u001b[0m\u001b[0;34m[\u001b[0m\u001b[0;36m0\u001b[0m\u001b[0;34m,\u001b[0m\u001b[0;34m:\u001b[0m\u001b[0;34m,\u001b[0m\u001b[0;36m4\u001b[0m\u001b[0;34m]\u001b[0m\u001b[0;34m,\u001b[0m \u001b[0mforward_events\u001b[0m\u001b[0;34m[\u001b[0m\u001b[0;36m0\u001b[0m\u001b[0;34m,\u001b[0m\u001b[0;34m:\u001b[0m\u001b[0;34m,\u001b[0m\u001b[0;36m3\u001b[0m\u001b[0;34m]\u001b[0m\u001b[0;34m\u001b[0m\u001b[0;34m\u001b[0m\u001b[0m\n",
      "\u001b[0;31mTypeError\u001b[0m: descriptor 'accumulate' requires a 'numpy.ufunc' object but received a 'numpy.ndarray'"
     ]
    }
   ],
   "source": [
    "a = np..accumulate(forward_events, axis = 1)\n",
    "a[0,:,4], forward_events[0,:,3]"
   ]
  },
  {
   "cell_type": "code",
   "execution_count": 100,
   "id": "ae9e1fba-b452-43c9-acf5-137276a17e1d",
   "metadata": {},
   "outputs": [],
   "source": [
    "import torch\n",
    "\n",
    "bs, length, n_head, hd = 8, 512, 12, 64\n",
    "n_registers = 2\n",
    "\n",
    "forward_events = (torch.rand(bs, length, n_head) > 0.5) * 1.\n",
    "backward_events = (torch.rand(bs, length, n_head) > 0.5) * 1.\n",
    "forward_mmap = torch.zeros((bs, length, n_registers+1, n_head))\n",
    "backward_mmap = torch.zeros((bs, length, n_registers+1, n_head))\n",
    "\n",
    "\n",
    "mmap = torch.zeros((bs, length, n_registers*2+2, n_head), dtype=torch.long)\n",
    "mmap[:, :, 0] = torch.cummax(forward_events, dim=1)[1]\n",
    "mmap[:, :, 1] = torch.flip(512 - torch.cummax(torch.flip(torch.roll(backward_events, -1, 1), [1]), 1)[1], [1])\n",
    "mmap[:, 0, 1] = 0"
   ]
  },
  {
   "cell_type": "code",
   "execution_count": 104,
   "id": "191f35b8-55db-4eea-a696-3b4b393b5f84",
   "metadata": {},
   "outputs": [
    {
     "data": {
      "text/plain": [
       "48.0"
      ]
     },
     "execution_count": 104,
     "metadata": {},
     "output_type": "execute_result"
    }
   ],
   "source": [
    "[32, 512, 2, 12, 64]' is invalid for input of size 50331648"
   ]
  },
  {
   "cell_type": "code",
   "execution_count": 105,
   "id": "40ab9127-952d-48fb-bb66-2e53ed80d959",
   "metadata": {},
   "outputs": [
    {
     "data": {
      "text/plain": [
       "256.0"
      ]
     },
     "execution_count": 105,
     "metadata": {},
     "output_type": "execute_result"
    }
   ],
   "source": [
    "50331648 / 32 / 512 / 12 "
   ]
  },
  {
   "cell_type": "code",
   "execution_count": 38,
   "id": "18f26612-8545-4932-9806-a40a2d90e350",
   "metadata": {},
   "outputs": [
    {
     "data": {
      "text/plain": [
       "tensor([  1.,   1.,   2.,   2.,   2.,   3.,   3.,   4.,   4.,   5.,   5.,   5.,\n",
       "          6.,   7.,   8.,   9.,  10.,  11.,  11.,  12.,  12.,  13.,  14.,  15.,\n",
       "         16.,  17.,  18.,  18.,  19.,  20.,  21.,  22.,  23.,  24.,  24.,  25.,\n",
       "         26.,  27.,  28.,  29.,  30.,  31.,  31.,  32.,  33.,  34.,  35.,  35.,\n",
       "         35.,  36.,  37.,  38.,  39.,  40.,  41.,  42.,  43.,  44.,  45.,  46.,\n",
       "         47.,  48.,  49.,  50.,  51.,  52.,  53.,  54.,  55.,  56.,  57.,  58.,\n",
       "         58.,  59.,  59.,  60.,  61.,  62.,  63.,  63.,  64.,  65.,  66.,  67.,\n",
       "         67.,  68.,  69.,  70.,  71.,  71.,  72.,  73.,  74.,  75.,  75.,  76.,\n",
       "         77.,  78.,  79.,  80.,  81.,  82.,  83.,  84.,  85.,  86.,  87.,  87.,\n",
       "         88.,  88.,  88.,  89.,  90.,  91.,  91.,  92.,  93.,  94.,  95.,  96.,\n",
       "         96.,  97.,  98.,  99., 100., 100., 101., 102., 103., 104., 105., 105.,\n",
       "        105., 106., 107., 108., 109., 109., 110., 111., 112., 113., 114., 115.,\n",
       "        116., 117., 118., 119., 120., 121., 121., 121., 122., 123., 124., 125.,\n",
       "        126., 127., 128., 129., 130., 131., 132., 133., 134., 134., 135., 136.,\n",
       "        137., 138., 139., 140., 141., 142., 142., 143., 143., 143., 144., 145.,\n",
       "        146., 147., 148., 149., 149., 150., 151., 152., 153., 154., 155., 155.,\n",
       "        156., 157., 158., 159., 160., 160., 161., 162., 163., 164., 165., 166.,\n",
       "        167., 168., 169., 170., 170., 171., 172., 173., 174., 174., 175., 176.,\n",
       "        177., 178., 179., 180., 180., 181., 182., 183., 184., 185., 186., 187.,\n",
       "        188., 189., 190., 191., 192., 193., 194., 194., 194., 195., 196., 197.,\n",
       "        198., 199., 200., 201., 202., 202., 203., 204., 204., 205., 206., 207.,\n",
       "        208., 209., 210., 211., 212., 213., 213., 214., 215., 215., 216., 217.,\n",
       "        217., 218., 218., 219., 220., 221., 222., 223., 224., 225., 226., 227.,\n",
       "        228., 229., 230., 231., 232., 233., 233., 233., 234., 235., 235., 236.,\n",
       "        236., 237., 238., 239., 240., 241., 242., 243., 244., 244., 245., 245.,\n",
       "        246., 246., 246., 247., 248., 248., 248., 249., 250., 250., 251., 251.,\n",
       "        252., 253., 254., 254., 255., 255., 256., 257., 257., 258., 259., 260.,\n",
       "        261., 261., 262., 262., 263., 264., 265., 266., 267., 268., 269., 270.,\n",
       "        271., 272., 273., 273., 274., 275., 276., 277., 278., 279., 280., 281.,\n",
       "        282., 283., 284., 284., 285., 286., 287., 288., 289., 290., 291., 292.,\n",
       "        293., 293., 294., 295., 296., 297., 298., 299., 300., 301., 302., 303.,\n",
       "        304., 305., 305., 306., 307., 308., 309., 310., 311., 312., 313., 314.,\n",
       "        315., 316., 317., 317., 318., 318., 318., 319., 320., 320., 321., 322.,\n",
       "        323., 324., 325., 326., 326., 326., 327., 328., 329., 330., 331., 332.,\n",
       "        333., 334., 335., 336., 336., 337., 338., 339., 339., 340., 341., 342.,\n",
       "        343., 344., 345., 345., 346., 346., 347., 348., 349., 349., 350., 351.,\n",
       "        352., 352., 352., 352., 353., 353., 354., 355., 356., 356., 356., 357.,\n",
       "        358., 359., 360., 361., 362., 363., 364., 364., 365., 366., 366., 366.,\n",
       "        367., 368., 369., 370., 370., 371., 372., 373., 374., 374., 374., 375.,\n",
       "        376., 377., 378., 378., 379., 379., 379., 379., 380., 381., 382., 382.,\n",
       "        383., 383., 384., 385., 386., 387., 388., 389., 390., 391., 392., 393.,\n",
       "        394., 394., 395., 395., 396., 397., 398., 399., 400., 401., 401., 402.,\n",
       "        403., 404., 405., 406., 407., 408., 409., 410.])"
      ]
     },
     "execution_count": 38,
     "metadata": {},
     "output_type": "execute_result"
    }
   ],
   "source": [
    "torch.cummax(torch.cumsum(forward_events, dim=1), dim=1)[0][0,:,0]"
   ]
  },
  {
   "cell_type": "code",
   "execution_count": 108,
   "id": "8dad406d-a684-453f-b2a9-73303b2cc6d5",
   "metadata": {},
   "outputs": [
    {
     "ename": "SyntaxError",
     "evalue": "invalid syntax (3085583697.py, line 1)",
     "output_type": "error",
     "traceback": [
      "\u001b[0;36m  File \u001b[0;32m\"/var/folders/68/0181ggk151s5q7g_yrx6g7rm0000gn/T/ipykernel_13268/3085583697.py\"\u001b[0;36m, line \u001b[0;32m1\u001b[0m\n\u001b[0;31m    '[32, 512, 16, 12, 1]' is invalid for input of size 201326592\u001b[0m\n\u001b[0m                                        ^\u001b[0m\n\u001b[0;31mSyntaxError\u001b[0m\u001b[0;31m:\u001b[0m invalid syntax\n"
     ]
    }
   ],
   "source": [
    "'[32, 512, 16, 12, 1]' is invalid for input of size 201326592"
   ]
  },
  {
   "cell_type": "code",
   "execution_count": 110,
   "id": "8f8e9371-2a11-4e09-90bc-a973a83c43c6",
   "metadata": {},
   "outputs": [
    {
     "data": {
      "text/plain": [
       "64.0"
      ]
     },
     "execution_count": 110,
     "metadata": {},
     "output_type": "execute_result"
    }
   ],
   "source": [
    "201326592/32/512/16/12"
   ]
  }
 ],
 "metadata": {
  "kernelspec": {
   "display_name": "Python 3 (ipykernel)",
   "language": "python",
   "name": "python3"
  },
  "language_info": {
   "codemirror_mode": {
    "name": "ipython",
    "version": 3
   },
   "file_extension": ".py",
   "mimetype": "text/x-python",
   "name": "python",
   "nbconvert_exporter": "python",
   "pygments_lexer": "ipython3",
   "version": "3.9.12"
  }
 },
 "nbformat": 4,
 "nbformat_minor": 5
}
